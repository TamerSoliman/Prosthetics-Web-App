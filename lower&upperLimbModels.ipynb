{
 "cells": [
  {
   "cell_type": "markdown",
   "metadata": {},
   "source": [
    "# Prosthetics Web Application\n",
    "This notebook has 3 sections:\n",
    "* Data Preprocessing\n",
    "* Data Modeling\n",
    "* Model Persisting"
   ]
  },
  {
   "cell_type": "markdown",
   "metadata": {},
   "source": [
    "## Data Preprocessing"
   ]
  },
  {
   "cell_type": "code",
   "execution_count": 1,
   "metadata": {
    "collapsed": true
   },
   "outputs": [],
   "source": [
    "import pandas as pd\n",
    "import numpy as np"
   ]
  },
  {
   "cell_type": "markdown",
   "metadata": {},
   "source": [
    "Data are split on two tab-delimited text files, one for men and one for women. Let's import them"
   ]
  },
  {
   "cell_type": "code",
   "execution_count": 2,
   "metadata": {
    "collapsed": true
   },
   "outputs": [],
   "source": [
    "men=pd.read_table(\"ansur_men.txt\")\n",
    "women=pd.read_table(\"ansur_women.txt\")\n"
   ]
  },
  {
   "cell_type": "markdown",
   "metadata": {},
   "source": [
    "Let's check if the two data frames have the same set of variables. We then check if the variable \"GENDER\" is in both, and explore how it is coded."
   ]
  },
  {
   "cell_type": "code",
   "execution_count": 3,
   "metadata": {
    "collapsed": false
   },
   "outputs": [
    {
     "data": {
      "text/plain": [
       "True"
      ]
     },
     "execution_count": 3,
     "metadata": {},
     "output_type": "execute_result"
    }
   ],
   "source": [
    "men.columns.tolist() == women.columns.tolist()\n"
   ]
  },
  {
   "cell_type": "code",
   "execution_count": 6,
   "metadata": {
    "collapsed": false
   },
   "outputs": [
    {
     "data": {
      "text/plain": [
       "True"
      ]
     },
     "execution_count": 6,
     "metadata": {},
     "output_type": "execute_result"
    }
   ],
   "source": [
    "(\"GENDER\"  in men.columns.tolist()) and (\"GENDER\" in women.columns.tolist())\n"
   ]
  },
  {
   "cell_type": "code",
   "execution_count": 8,
   "metadata": {
    "collapsed": false
   },
   "outputs": [
    {
     "data": {
      "text/plain": [
       "array([1], dtype=int64)"
      ]
     },
     "execution_count": 8,
     "metadata": {},
     "output_type": "execute_result"
    }
   ],
   "source": [
    "pd.unique(men.GENDER)\n"
   ]
  },
  {
   "cell_type": "code",
   "execution_count": 9,
   "metadata": {
    "collapsed": false
   },
   "outputs": [
    {
     "data": {
      "text/plain": [
       "array([2], dtype=int64)"
      ]
     },
     "execution_count": 9,
     "metadata": {},
     "output_type": "execute_result"
    }
   ],
   "source": [
    "pd.unique(women.GENDER)\n"
   ]
  },
  {
   "cell_type": "markdown",
   "metadata": {},
   "source": [
    "We want to change the coding of women to 0, instead of 2, but let's first make sure that there are no missing data in that column. We will then use numpy's where() for the code replacement, and then concatenate the dataframes. "
   ]
  },
  {
   "cell_type": "code",
   "execution_count": 10,
   "metadata": {
    "collapsed": false
   },
   "outputs": [
    {
     "data": {
      "text/plain": [
       "False"
      ]
     },
     "execution_count": 10,
     "metadata": {},
     "output_type": "execute_result"
    }
   ],
   "source": [
    "women.GENDER.isnull().any()\n"
   ]
  },
  {
   "cell_type": "code",
   "execution_count": 11,
   "metadata": {
    "collapsed": true
   },
   "outputs": [],
   "source": [
    "women[\"GENDER\"] = np.where(women[\"GENDER\"] == 2, [0] * len(women[\"GENDER\"]), women[\"GENDER\"])\n"
   ]
  },
  {
   "cell_type": "code",
   "execution_count": 12,
   "metadata": {
    "collapsed": false
   },
   "outputs": [
    {
     "data": {
      "text/plain": [
       "array([0], dtype=int64)"
      ]
     },
     "execution_count": 12,
     "metadata": {},
     "output_type": "execute_result"
    }
   ],
   "source": [
    "pd.unique(women.GENDER)\n"
   ]
  },
  {
   "cell_type": "code",
   "execution_count": 13,
   "metadata": {
    "collapsed": true
   },
   "outputs": [],
   "source": [
    "both=pd.concat([men, women], ignore_index=True)\n"
   ]
  },
  {
   "cell_type": "code",
   "execution_count": 14,
   "metadata": {
    "collapsed": false
   },
   "outputs": [
    {
     "data": {
      "text/plain": [
       "True"
      ]
     },
     "execution_count": 14,
     "metadata": {},
     "output_type": "execute_result"
    }
   ],
   "source": [
    "men.shape[0] + women.shape[0]  == both.shape[0]\n"
   ]
  },
  {
   "cell_type": "markdown",
   "metadata": {},
   "source": [
    "Now let's select the variables of interest into a lighter-weight dataframe, change their cryptic labels, then inspect their type (i.e., categorical or numeric) We'll also check if there are any missing data"
   ]
  },
  {
   "cell_type": "code",
   "execution_count": 15,
   "metadata": {
    "collapsed": true
   },
   "outputs": [],
   "source": [
    "df=both[['ACR_HT-SIT',\n",
    "'TENTH_RIB',\n",
    "'WAIST_NAT_LNTH',\n",
    "'GENDER',\n",
    "'AGE-ANSUR88',\n",
    "'HAND_LNTH',\n",
    "'HAND_CIRC_AT_METACARPALE',\n",
    "'FOREARM_CIRC-FLEXED',\n",
    "'RADIALE-STYLION_LNTH',\n",
    "'ARM_CIRC-AXILLARY',\n",
    "'SHOULDER_ELBOW_LNTH',\n",
    "'FOOT_BRTH',\n",
    "'FOOT_LNTH',\n",
    "'KNEE_HT_-_SITTING',\n",
    "'CALF_CIRC',\n",
    "'THIGH_CIRC-PROXIMAL',\n",
    "'BUTT_KNEE_LNTH',\n",
    " 'THUMB-TIP_REACH',\n",
    "'FUNCTIONAL_LEG_LNTH']]\n",
    "\n"
   ]
  },
  {
   "cell_type": "code",
   "execution_count": 16,
   "metadata": {
    "collapsed": false
   },
   "outputs": [
    {
     "name": "stderr",
     "output_type": "stream",
     "text": [
      "C:\\Users\\tamer\\Anaconda2\\envs\\py35_2\\lib\\site-packages\\pandas\\core\\frame.py:2834: SettingWithCopyWarning: \n",
      "A value is trying to be set on a copy of a slice from a DataFrame\n",
      "\n",
      "See the caveats in the documentation: http://pandas.pydata.org/pandas-docs/stable/indexing.html#indexing-view-versus-copy\n",
      "  **kwargs)\n"
     ]
    }
   ],
   "source": [
    "df.rename(columns={'ACR_HT-SIT' : \"shoulder_height\",\n",
    "'TENTH_RIB' : \"chest_height\",\n",
    "'WAIST_NAT_LNTH':\"waist_length\",\n",
    "'GENDER':\"gender\",\n",
    "'AGE-ANSUR88':\"age\",\n",
    "'HAND_LNTH':\"hand1\",\n",
    "'HAND_CIRC_AT_METACARPALE':\"hand2\",\n",
    "'FOREARM_CIRC-FLEXED':\"forearm2\",\n",
    "'RADIALE-STYLION_LNTH':\"forearm1\",\n",
    "'ARM_CIRC-AXILLARY':\"arm2\",\n",
    "'SHOULDER_ELBOW_LNTH':\"arm1\",\n",
    "'FOOT_BRTH':\"foot2\",\n",
    "'FOOT_LNTH':\"foot1\",\n",
    "'KNEE_HT_-_SITTING':\"foreleg1\",\n",
    "'CALF_CIRC':\"foreleg2\",\n",
    "'THIGH_CIRC-PROXIMAL':\"thigh2\",\n",
    "'BUTT_KNEE_LNTH':\"thigh1\",\n",
    " 'THUMB-TIP_REACH':\"upperlimb\",\n",
    "'FUNCTIONAL_LEG_LNTH':\"lowerlimb\"}, inplace=True)\n"
   ]
  },
  {
   "cell_type": "code",
   "execution_count": 17,
   "metadata": {
    "collapsed": false
   },
   "outputs": [
    {
     "data": {
      "text/plain": [
       "False"
      ]
     },
     "execution_count": 17,
     "metadata": {},
     "output_type": "execute_result"
    }
   ],
   "source": [
    "df.isnull().any().any()"
   ]
  },
  {
   "cell_type": "code",
   "execution_count": 18,
   "metadata": {
    "collapsed": false
   },
   "outputs": [
    {
     "data": {
      "text/plain": [
       "0"
      ]
     },
     "execution_count": 18,
     "metadata": {},
     "output_type": "execute_result"
    }
   ],
   "source": [
    "len(df.select_dtypes([\"category\"]).columns)"
   ]
  },
  {
   "cell_type": "code",
   "execution_count": 19,
   "metadata": {
    "collapsed": false
   },
   "outputs": [
    {
     "data": {
      "text/plain": [
       "(3982, 19)"
      ]
     },
     "execution_count": 19,
     "metadata": {},
     "output_type": "execute_result"
    }
   ],
   "source": [
    "df.shape"
   ]
  },
  {
   "cell_type": "markdown",
   "metadata": {},
   "source": [
    "Good! So we have a data frame of 19 vars and roughly 4000 example; all variables are numeric; and no missing data. Let's take a look at the upper 5 rows, then get descriptives of the variables, and finally write the dataframe to a csv file for future use and move on to the modeling   step."
   ]
  },
  {
   "cell_type": "code",
   "execution_count": 20,
   "metadata": {
    "collapsed": false
   },
   "outputs": [
    {
     "data": {
      "text/html": [
       "<div>\n",
       "<table border=\"1\" class=\"dataframe\">\n",
       "  <thead>\n",
       "    <tr style=\"text-align: right;\">\n",
       "      <th></th>\n",
       "      <th>shoulder_height</th>\n",
       "      <th>chest_height</th>\n",
       "      <th>waist_length</th>\n",
       "      <th>gender</th>\n",
       "      <th>age</th>\n",
       "      <th>hand1</th>\n",
       "      <th>hand2</th>\n",
       "      <th>forearm2</th>\n",
       "      <th>forearm1</th>\n",
       "      <th>arm2</th>\n",
       "      <th>arm1</th>\n",
       "      <th>foot2</th>\n",
       "      <th>foot1</th>\n",
       "      <th>foreleg1</th>\n",
       "      <th>foreleg2</th>\n",
       "      <th>thigh2</th>\n",
       "      <th>thigh1</th>\n",
       "      <th>upperlimb</th>\n",
       "      <th>lowerlimb</th>\n",
       "    </tr>\n",
       "  </thead>\n",
       "  <tbody>\n",
       "    <tr>\n",
       "      <th>0</th>\n",
       "      <td>583</td>\n",
       "      <td>1110</td>\n",
       "      <td>385</td>\n",
       "      <td>1</td>\n",
       "      <td>34</td>\n",
       "      <td>193</td>\n",
       "      <td>217</td>\n",
       "      <td>318</td>\n",
       "      <td>273</td>\n",
       "      <td>364</td>\n",
       "      <td>363</td>\n",
       "      <td>97</td>\n",
       "      <td>260</td>\n",
       "      <td>551</td>\n",
       "      <td>400</td>\n",
       "      <td>627</td>\n",
       "      <td>618</td>\n",
       "      <td>807</td>\n",
       "      <td>1071</td>\n",
       "    </tr>\n",
       "    <tr>\n",
       "      <th>1</th>\n",
       "      <td>631</td>\n",
       "      <td>1204</td>\n",
       "      <td>414</td>\n",
       "      <td>1</td>\n",
       "      <td>37</td>\n",
       "      <td>213</td>\n",
       "      <td>228</td>\n",
       "      <td>294</td>\n",
       "      <td>285</td>\n",
       "      <td>348</td>\n",
       "      <td>395</td>\n",
       "      <td>105</td>\n",
       "      <td>290</td>\n",
       "      <td>601</td>\n",
       "      <td>400</td>\n",
       "      <td>615</td>\n",
       "      <td>653</td>\n",
       "      <td>875</td>\n",
       "      <td>1152</td>\n",
       "    </tr>\n",
       "    <tr>\n",
       "      <th>2</th>\n",
       "      <td>586</td>\n",
       "      <td>1090</td>\n",
       "      <td>395</td>\n",
       "      <td>1</td>\n",
       "      <td>38</td>\n",
       "      <td>191</td>\n",
       "      <td>213</td>\n",
       "      <td>282</td>\n",
       "      <td>264</td>\n",
       "      <td>328</td>\n",
       "      <td>359</td>\n",
       "      <td>97</td>\n",
       "      <td>254</td>\n",
       "      <td>531</td>\n",
       "      <td>362</td>\n",
       "      <td>576</td>\n",
       "      <td>594</td>\n",
       "      <td>785</td>\n",
       "      <td>1036</td>\n",
       "    </tr>\n",
       "    <tr>\n",
       "      <th>3</th>\n",
       "      <td>615</td>\n",
       "      <td>1124</td>\n",
       "      <td>434</td>\n",
       "      <td>1</td>\n",
       "      <td>33</td>\n",
       "      <td>204</td>\n",
       "      <td>213</td>\n",
       "      <td>308</td>\n",
       "      <td>279</td>\n",
       "      <td>294</td>\n",
       "      <td>381</td>\n",
       "      <td>108</td>\n",
       "      <td>271</td>\n",
       "      <td>546</td>\n",
       "      <td>410</td>\n",
       "      <td>616</td>\n",
       "      <td>624</td>\n",
       "      <td>845</td>\n",
       "      <td>1072</td>\n",
       "    </tr>\n",
       "    <tr>\n",
       "      <th>4</th>\n",
       "      <td>577</td>\n",
       "      <td>1046</td>\n",
       "      <td>386</td>\n",
       "      <td>1</td>\n",
       "      <td>42</td>\n",
       "      <td>176</td>\n",
       "      <td>203</td>\n",
       "      <td>292</td>\n",
       "      <td>264</td>\n",
       "      <td>335</td>\n",
       "      <td>342</td>\n",
       "      <td>97</td>\n",
       "      <td>240</td>\n",
       "      <td>540</td>\n",
       "      <td>380</td>\n",
       "      <td>587</td>\n",
       "      <td>584</td>\n",
       "      <td>750</td>\n",
       "      <td>1021</td>\n",
       "    </tr>\n",
       "  </tbody>\n",
       "</table>\n",
       "</div>"
      ],
      "text/plain": [
       "   shoulder_height  chest_height  waist_length  gender  age  hand1  hand2  \\\n",
       "0              583          1110           385       1   34    193    217   \n",
       "1              631          1204           414       1   37    213    228   \n",
       "2              586          1090           395       1   38    191    213   \n",
       "3              615          1124           434       1   33    204    213   \n",
       "4              577          1046           386       1   42    176    203   \n",
       "\n",
       "   forearm2  forearm1  arm2  arm1  foot2  foot1  foreleg1  foreleg2  thigh2  \\\n",
       "0       318       273   364   363     97    260       551       400     627   \n",
       "1       294       285   348   395    105    290       601       400     615   \n",
       "2       282       264   328   359     97    254       531       362     576   \n",
       "3       308       279   294   381    108    271       546       410     616   \n",
       "4       292       264   335   342     97    240       540       380     587   \n",
       "\n",
       "   thigh1  upperlimb  lowerlimb  \n",
       "0     618        807       1071  \n",
       "1     653        875       1152  \n",
       "2     594        785       1036  \n",
       "3     624        845       1072  \n",
       "4     584        750       1021  "
      ]
     },
     "execution_count": 20,
     "metadata": {},
     "output_type": "execute_result"
    }
   ],
   "source": [
    "df.head()"
   ]
  },
  {
   "cell_type": "code",
   "execution_count": 21,
   "metadata": {
    "collapsed": false
   },
   "outputs": [
    {
     "data": {
      "text/html": [
       "<div>\n",
       "<table border=\"1\" class=\"dataframe\">\n",
       "  <thead>\n",
       "    <tr style=\"text-align: right;\">\n",
       "      <th></th>\n",
       "      <th>shoulder_height</th>\n",
       "      <th>chest_height</th>\n",
       "      <th>waist_length</th>\n",
       "      <th>gender</th>\n",
       "      <th>age</th>\n",
       "      <th>hand1</th>\n",
       "      <th>hand2</th>\n",
       "      <th>forearm2</th>\n",
       "      <th>forearm1</th>\n",
       "      <th>arm2</th>\n",
       "      <th>arm1</th>\n",
       "      <th>foot2</th>\n",
       "      <th>foot1</th>\n",
       "      <th>foreleg1</th>\n",
       "      <th>foreleg2</th>\n",
       "      <th>thigh2</th>\n",
       "      <th>thigh1</th>\n",
       "      <th>upperlimb</th>\n",
       "      <th>lowerlimb</th>\n",
       "    </tr>\n",
       "  </thead>\n",
       "  <tbody>\n",
       "    <tr>\n",
       "      <th>3977</th>\n",
       "      <td>557</td>\n",
       "      <td>1010</td>\n",
       "      <td>333</td>\n",
       "      <td>0</td>\n",
       "      <td>33</td>\n",
       "      <td>181</td>\n",
       "      <td>192</td>\n",
       "      <td>263</td>\n",
       "      <td>252</td>\n",
       "      <td>297</td>\n",
       "      <td>341</td>\n",
       "      <td>90</td>\n",
       "      <td>239</td>\n",
       "      <td>499</td>\n",
       "      <td>360</td>\n",
       "      <td>615</td>\n",
       "      <td>572</td>\n",
       "      <td>747</td>\n",
       "      <td>984</td>\n",
       "    </tr>\n",
       "    <tr>\n",
       "      <th>3978</th>\n",
       "      <td>519</td>\n",
       "      <td>1007</td>\n",
       "      <td>319</td>\n",
       "      <td>0</td>\n",
       "      <td>25</td>\n",
       "      <td>178</td>\n",
       "      <td>186</td>\n",
       "      <td>257</td>\n",
       "      <td>230</td>\n",
       "      <td>297</td>\n",
       "      <td>335</td>\n",
       "      <td>87</td>\n",
       "      <td>234</td>\n",
       "      <td>497</td>\n",
       "      <td>333</td>\n",
       "      <td>586</td>\n",
       "      <td>605</td>\n",
       "      <td>713</td>\n",
       "      <td>1003</td>\n",
       "    </tr>\n",
       "    <tr>\n",
       "      <th>3979</th>\n",
       "      <td>518</td>\n",
       "      <td>1068</td>\n",
       "      <td>314</td>\n",
       "      <td>0</td>\n",
       "      <td>28</td>\n",
       "      <td>197</td>\n",
       "      <td>192</td>\n",
       "      <td>250</td>\n",
       "      <td>258</td>\n",
       "      <td>268</td>\n",
       "      <td>353</td>\n",
       "      <td>95</td>\n",
       "      <td>246</td>\n",
       "      <td>539</td>\n",
       "      <td>358</td>\n",
       "      <td>564</td>\n",
       "      <td>599</td>\n",
       "      <td>781</td>\n",
       "      <td>1055</td>\n",
       "    </tr>\n",
       "    <tr>\n",
       "      <th>3980</th>\n",
       "      <td>492</td>\n",
       "      <td>994</td>\n",
       "      <td>323</td>\n",
       "      <td>0</td>\n",
       "      <td>26</td>\n",
       "      <td>185</td>\n",
       "      <td>182</td>\n",
       "      <td>250</td>\n",
       "      <td>236</td>\n",
       "      <td>287</td>\n",
       "      <td>323</td>\n",
       "      <td>89</td>\n",
       "      <td>228</td>\n",
       "      <td>503</td>\n",
       "      <td>382</td>\n",
       "      <td>650</td>\n",
       "      <td>599</td>\n",
       "      <td>718</td>\n",
       "      <td>1020</td>\n",
       "    </tr>\n",
       "    <tr>\n",
       "      <th>3981</th>\n",
       "      <td>614</td>\n",
       "      <td>1172</td>\n",
       "      <td>407</td>\n",
       "      <td>0</td>\n",
       "      <td>24</td>\n",
       "      <td>181</td>\n",
       "      <td>199</td>\n",
       "      <td>278</td>\n",
       "      <td>247</td>\n",
       "      <td>347</td>\n",
       "      <td>361</td>\n",
       "      <td>97</td>\n",
       "      <td>259</td>\n",
       "      <td>570</td>\n",
       "      <td>414</td>\n",
       "      <td>669</td>\n",
       "      <td>649</td>\n",
       "      <td>761</td>\n",
       "      <td>1126</td>\n",
       "    </tr>\n",
       "  </tbody>\n",
       "</table>\n",
       "</div>"
      ],
      "text/plain": [
       "      shoulder_height  chest_height  waist_length  gender  age  hand1  hand2  \\\n",
       "3977              557          1010           333       0   33    181    192   \n",
       "3978              519          1007           319       0   25    178    186   \n",
       "3979              518          1068           314       0   28    197    192   \n",
       "3980              492           994           323       0   26    185    182   \n",
       "3981              614          1172           407       0   24    181    199   \n",
       "\n",
       "      forearm2  forearm1  arm2  arm1  foot2  foot1  foreleg1  foreleg2  \\\n",
       "3977       263       252   297   341     90    239       499       360   \n",
       "3978       257       230   297   335     87    234       497       333   \n",
       "3979       250       258   268   353     95    246       539       358   \n",
       "3980       250       236   287   323     89    228       503       382   \n",
       "3981       278       247   347   361     97    259       570       414   \n",
       "\n",
       "      thigh2  thigh1  upperlimb  lowerlimb  \n",
       "3977     615     572        747        984  \n",
       "3978     586     605        713       1003  \n",
       "3979     564     599        781       1055  \n",
       "3980     650     599        718       1020  \n",
       "3981     669     649        761       1126  "
      ]
     },
     "execution_count": 21,
     "metadata": {},
     "output_type": "execute_result"
    }
   ],
   "source": [
    "df.tail()"
   ]
  },
  {
   "cell_type": "code",
   "execution_count": 22,
   "metadata": {
    "collapsed": false
   },
   "outputs": [
    {
     "data": {
      "text/html": [
       "<div>\n",
       "<table border=\"1\" class=\"dataframe\">\n",
       "  <thead>\n",
       "    <tr style=\"text-align: right;\">\n",
       "      <th></th>\n",
       "      <th>shoulder_height</th>\n",
       "      <th>chest_height</th>\n",
       "      <th>waist_length</th>\n",
       "      <th>gender</th>\n",
       "      <th>age</th>\n",
       "      <th>hand1</th>\n",
       "      <th>hand2</th>\n",
       "      <th>forearm2</th>\n",
       "      <th>forearm1</th>\n",
       "      <th>arm2</th>\n",
       "      <th>arm1</th>\n",
       "      <th>foot2</th>\n",
       "      <th>foot1</th>\n",
       "      <th>foreleg1</th>\n",
       "      <th>foreleg2</th>\n",
       "      <th>thigh2</th>\n",
       "      <th>thigh1</th>\n",
       "      <th>upperlimb</th>\n",
       "      <th>lowerlimb</th>\n",
       "    </tr>\n",
       "  </thead>\n",
       "  <tbody>\n",
       "    <tr>\n",
       "      <th>count</th>\n",
       "      <td>3982.000000</td>\n",
       "      <td>3982.000000</td>\n",
       "      <td>3982.000000</td>\n",
       "      <td>3982.000000</td>\n",
       "      <td>3982.000000</td>\n",
       "      <td>3982.000000</td>\n",
       "      <td>3982.000000</td>\n",
       "      <td>3982.000000</td>\n",
       "      <td>3982.000000</td>\n",
       "      <td>3982.000000</td>\n",
       "      <td>3982.000000</td>\n",
       "      <td>3982.000000</td>\n",
       "      <td>3982.000000</td>\n",
       "      <td>3982.000000</td>\n",
       "      <td>3982.000000</td>\n",
       "      <td>3982.000000</td>\n",
       "      <td>3982.000000</td>\n",
       "      <td>3982.000000</td>\n",
       "      <td>3982.000000</td>\n",
       "    </tr>\n",
       "    <tr>\n",
       "      <th>mean</th>\n",
       "      <td>574.347062</td>\n",
       "      <td>1078.595932</td>\n",
       "      <td>387.220241</td>\n",
       "      <td>0.445505</td>\n",
       "      <td>26.638122</td>\n",
       "      <td>186.390256</td>\n",
       "      <td>198.462833</td>\n",
       "      <td>275.887745</td>\n",
       "      <td>255.204169</td>\n",
       "      <td>310.909844</td>\n",
       "      <td>350.589151</td>\n",
       "      <td>94.547715</td>\n",
       "      <td>255.654696</td>\n",
       "      <td>534.739076</td>\n",
       "      <td>363.819437</td>\n",
       "      <td>587.505525</td>\n",
       "      <td>601.173782</td>\n",
       "      <td>764.120291</td>\n",
       "      <td>1043.222250</td>\n",
       "    </tr>\n",
       "    <tr>\n",
       "      <th>std</th>\n",
       "      <td>35.853782</td>\n",
       "      <td>62.805923</td>\n",
       "      <td>32.881028</td>\n",
       "      <td>0.497084</td>\n",
       "      <td>6.241669</td>\n",
       "      <td>11.764664</td>\n",
       "      <td>16.435055</td>\n",
       "      <td>29.892711</td>\n",
       "      <td>20.346070</td>\n",
       "      <td>33.537753</td>\n",
       "      <td>24.179413</td>\n",
       "      <td>7.447960</td>\n",
       "      <td>17.814418</td>\n",
       "      <td>34.587067</td>\n",
       "      <td>27.355270</td>\n",
       "      <td>47.668024</td>\n",
       "      <td>32.721096</td>\n",
       "      <td>50.037924</td>\n",
       "      <td>60.928713</td>\n",
       "    </tr>\n",
       "    <tr>\n",
       "      <th>min</th>\n",
       "      <td>464.000000</td>\n",
       "      <td>876.000000</td>\n",
       "      <td>283.000000</td>\n",
       "      <td>0.000000</td>\n",
       "      <td>17.000000</td>\n",
       "      <td>149.000000</td>\n",
       "      <td>158.000000</td>\n",
       "      <td>210.000000</td>\n",
       "      <td>157.000000</td>\n",
       "      <td>223.000000</td>\n",
       "      <td>282.000000</td>\n",
       "      <td>73.000000</td>\n",
       "      <td>203.000000</td>\n",
       "      <td>406.000000</td>\n",
       "      <td>285.000000</td>\n",
       "      <td>454.000000</td>\n",
       "      <td>491.000000</td>\n",
       "      <td>605.000000</td>\n",
       "      <td>819.000000</td>\n",
       "    </tr>\n",
       "    <tr>\n",
       "      <th>25%</th>\n",
       "      <td>548.000000</td>\n",
       "      <td>1033.000000</td>\n",
       "      <td>362.000000</td>\n",
       "      <td>0.000000</td>\n",
       "      <td>22.000000</td>\n",
       "      <td>178.000000</td>\n",
       "      <td>185.000000</td>\n",
       "      <td>251.000000</td>\n",
       "      <td>241.000000</td>\n",
       "      <td>285.000000</td>\n",
       "      <td>333.000000</td>\n",
       "      <td>89.000000</td>\n",
       "      <td>242.000000</td>\n",
       "      <td>510.000000</td>\n",
       "      <td>345.000000</td>\n",
       "      <td>555.000000</td>\n",
       "      <td>579.000000</td>\n",
       "      <td>728.000000</td>\n",
       "      <td>1003.000000</td>\n",
       "    </tr>\n",
       "    <tr>\n",
       "      <th>50%</th>\n",
       "      <td>574.000000</td>\n",
       "      <td>1077.000000</td>\n",
       "      <td>387.000000</td>\n",
       "      <td>0.000000</td>\n",
       "      <td>25.000000</td>\n",
       "      <td>186.000000</td>\n",
       "      <td>196.000000</td>\n",
       "      <td>271.000000</td>\n",
       "      <td>255.000000</td>\n",
       "      <td>308.000000</td>\n",
       "      <td>350.000000</td>\n",
       "      <td>94.000000</td>\n",
       "      <td>255.000000</td>\n",
       "      <td>533.000000</td>\n",
       "      <td>363.000000</td>\n",
       "      <td>586.000000</td>\n",
       "      <td>600.000000</td>\n",
       "      <td>761.000000</td>\n",
       "      <td>1041.000000</td>\n",
       "    </tr>\n",
       "    <tr>\n",
       "      <th>75%</th>\n",
       "      <td>600.000000</td>\n",
       "      <td>1121.000000</td>\n",
       "      <td>411.000000</td>\n",
       "      <td>1.000000</td>\n",
       "      <td>31.000000</td>\n",
       "      <td>194.000000</td>\n",
       "      <td>212.000000</td>\n",
       "      <td>300.000000</td>\n",
       "      <td>269.000000</td>\n",
       "      <td>335.000000</td>\n",
       "      <td>368.000000</td>\n",
       "      <td>100.000000</td>\n",
       "      <td>268.000000</td>\n",
       "      <td>558.000000</td>\n",
       "      <td>382.000000</td>\n",
       "      <td>619.000000</td>\n",
       "      <td>623.000000</td>\n",
       "      <td>799.000000</td>\n",
       "      <td>1085.000000</td>\n",
       "    </tr>\n",
       "    <tr>\n",
       "      <th>max</th>\n",
       "      <td>695.000000</td>\n",
       "      <td>1353.000000</td>\n",
       "      <td>493.000000</td>\n",
       "      <td>1.000000</td>\n",
       "      <td>51.000000</td>\n",
       "      <td>233.000000</td>\n",
       "      <td>247.000000</td>\n",
       "      <td>372.000000</td>\n",
       "      <td>325.000000</td>\n",
       "      <td>453.000000</td>\n",
       "      <td>446.000000</td>\n",
       "      <td>122.000000</td>\n",
       "      <td>310.000000</td>\n",
       "      <td>675.000000</td>\n",
       "      <td>470.000000</td>\n",
       "      <td>787.000000</td>\n",
       "      <td>723.000000</td>\n",
       "      <td>980.000000</td>\n",
       "      <td>1291.000000</td>\n",
       "    </tr>\n",
       "  </tbody>\n",
       "</table>\n",
       "</div>"
      ],
      "text/plain": [
       "       shoulder_height  chest_height  waist_length       gender          age  \\\n",
       "count      3982.000000   3982.000000   3982.000000  3982.000000  3982.000000   \n",
       "mean        574.347062   1078.595932    387.220241     0.445505    26.638122   \n",
       "std          35.853782     62.805923     32.881028     0.497084     6.241669   \n",
       "min         464.000000    876.000000    283.000000     0.000000    17.000000   \n",
       "25%         548.000000   1033.000000    362.000000     0.000000    22.000000   \n",
       "50%         574.000000   1077.000000    387.000000     0.000000    25.000000   \n",
       "75%         600.000000   1121.000000    411.000000     1.000000    31.000000   \n",
       "max         695.000000   1353.000000    493.000000     1.000000    51.000000   \n",
       "\n",
       "             hand1        hand2     forearm2     forearm1         arm2  \\\n",
       "count  3982.000000  3982.000000  3982.000000  3982.000000  3982.000000   \n",
       "mean    186.390256   198.462833   275.887745   255.204169   310.909844   \n",
       "std      11.764664    16.435055    29.892711    20.346070    33.537753   \n",
       "min     149.000000   158.000000   210.000000   157.000000   223.000000   \n",
       "25%     178.000000   185.000000   251.000000   241.000000   285.000000   \n",
       "50%     186.000000   196.000000   271.000000   255.000000   308.000000   \n",
       "75%     194.000000   212.000000   300.000000   269.000000   335.000000   \n",
       "max     233.000000   247.000000   372.000000   325.000000   453.000000   \n",
       "\n",
       "              arm1        foot2        foot1     foreleg1     foreleg2  \\\n",
       "count  3982.000000  3982.000000  3982.000000  3982.000000  3982.000000   \n",
       "mean    350.589151    94.547715   255.654696   534.739076   363.819437   \n",
       "std      24.179413     7.447960    17.814418    34.587067    27.355270   \n",
       "min     282.000000    73.000000   203.000000   406.000000   285.000000   \n",
       "25%     333.000000    89.000000   242.000000   510.000000   345.000000   \n",
       "50%     350.000000    94.000000   255.000000   533.000000   363.000000   \n",
       "75%     368.000000   100.000000   268.000000   558.000000   382.000000   \n",
       "max     446.000000   122.000000   310.000000   675.000000   470.000000   \n",
       "\n",
       "            thigh2       thigh1    upperlimb    lowerlimb  \n",
       "count  3982.000000  3982.000000  3982.000000  3982.000000  \n",
       "mean    587.505525   601.173782   764.120291  1043.222250  \n",
       "std      47.668024    32.721096    50.037924    60.928713  \n",
       "min     454.000000   491.000000   605.000000   819.000000  \n",
       "25%     555.000000   579.000000   728.000000  1003.000000  \n",
       "50%     586.000000   600.000000   761.000000  1041.000000  \n",
       "75%     619.000000   623.000000   799.000000  1085.000000  \n",
       "max     787.000000   723.000000   980.000000  1291.000000  "
      ]
     },
     "execution_count": 22,
     "metadata": {},
     "output_type": "execute_result"
    }
   ],
   "source": [
    "df.describe()"
   ]
  },
  {
   "cell_type": "code",
   "execution_count": 23,
   "metadata": {
    "collapsed": true
   },
   "outputs": [],
   "source": [
    "df.to_csv(\"prosthetics.csv\")"
   ]
  },
  {
   "cell_type": "markdown",
   "metadata": {},
   "source": [
    "## Data Modeling"
   ]
  },
  {
   "cell_type": "markdown",
   "metadata": {},
   "source": [
    "So, we need to build a predictive model for each of the \"lowerlimb\" and \"upperlimb\" outcome variables, using, for each, all other variables except those  that comprise the limb being predicted. For example, we will exclude the hand, forearm, and arm variables from the upperlimb model, and use all other predictors.\n",
    "\n",
    "We'll definitly  use a regression model since our dependent variable is continuous. Anthropometric data of body measures are known for being highly correlated, however, and the variables certainly carry redundent information. Accordingly, we will use a regularized regression model to trade some bias in the parameter estimates for out-of-sample stability of those estimates. We will go for Ridge regression here, since we want to retain measurements from as many body segments as possible in our model (Lasso will result in a highly sparce one).\n",
    "\n",
    "The hyperparameter alpha in Ridge regression needs to be empiricallly tuned. We will use a coarse-grained grid search for the optimal value of that parameter, then hone in on the value using finer-grained search. We'We'll use R-squared as the metric for our model performance. We'll start with the lower-limb, then build the upper-limb model."
   ]
  },
  {
   "cell_type": "markdown",
   "metadata": {},
   "source": [
    "### Lower Limb Model"
   ]
  },
  {
   "cell_type": "code",
   "execution_count": 24,
   "metadata": {
    "collapsed": false
   },
   "outputs": [
    {
     "name": "stderr",
     "output_type": "stream",
     "text": [
      "C:\\Users\\tamer\\Anaconda2\\envs\\py35_2\\lib\\site-packages\\sklearn\\cross_validation.py:44: DeprecationWarning: This module was deprecated in version 0.18 in favor of the model_selection module into which all the refactored classes and functions are moved. Also note that the interface of the new CV iterators are different from that of this module. This module will be removed in 0.20.\n",
      "  \"This module will be removed in 0.20.\", DeprecationWarning)\n",
      "C:\\Users\\tamer\\Anaconda2\\envs\\py35_2\\lib\\site-packages\\sklearn\\grid_search.py:43: DeprecationWarning: This module was deprecated in version 0.18 in favor of the model_selection module into which all the refactored classes and functions are moved. This module will be removed in 0.20.\n",
      "  DeprecationWarning)\n"
     ]
    }
   ],
   "source": [
    "from sklearn.grid_search import GridSearchCV\n",
    "from sklearn.linear_model import Ridge\n"
   ]
  },
  {
   "cell_type": "code",
   "execution_count": 25,
   "metadata": {
    "collapsed": true
   },
   "outputs": [],
   "source": [
    "y1=df[\"lowerlimb\"]\n",
    "\n",
    "x1 = df[['shoulder_height', 'chest_height', 'waist_length', 'gender', 'age', 'hand1', 'hand2', 'forearm2', 'forearm1', 'arm2', 'arm1', ]]\n"
   ]
  },
  {
   "cell_type": "code",
   "execution_count": 26,
   "metadata": {
    "collapsed": true
   },
   "outputs": [],
   "source": [
    "grid=[{\"alpha\" : [0.1, 1, 10]}]\n"
   ]
  },
  {
   "cell_type": "code",
   "execution_count": 27,
   "metadata": {
    "collapsed": true
   },
   "outputs": [],
   "source": [
    "model1=GridSearchCV(Ridge(),\n",
    "grid,\n",
    "cv=5,\n",
    "scoring= 'r2')\n",
    "\n"
   ]
  },
  {
   "cell_type": "code",
   "execution_count": 28,
   "metadata": {
    "collapsed": false
   },
   "outputs": [
    {
     "data": {
      "text/plain": [
       "GridSearchCV(cv=5, error_score='raise',\n",
       "       estimator=Ridge(alpha=1.0, copy_X=True, fit_intercept=True, max_iter=None,\n",
       "   normalize=False, random_state=None, solver='auto', tol=0.001),\n",
       "       fit_params={}, iid=True, n_jobs=1,\n",
       "       param_grid=[{'alpha': [0.1, 1, 10]}], pre_dispatch='2*n_jobs',\n",
       "       refit=True, scoring='r2', verbose=0)"
      ]
     },
     "execution_count": 28,
     "metadata": {},
     "output_type": "execute_result"
    }
   ],
   "source": [
    "model1.fit(x1,y1)\n"
   ]
  },
  {
   "cell_type": "code",
   "execution_count": 29,
   "metadata": {
    "collapsed": false
   },
   "outputs": [
    {
     "name": "stdout",
     "output_type": "stream",
     "text": [
      "mean_score is 0.8816575415382724, its standard deviation is 0.01462638955470248, and the parameter value is {'alpha': 0.1}\n",
      "mean_score is 0.8816626944593696, its standard deviation is 0.014631879388053784, and the parameter value is {'alpha': 1}\n",
      "mean_score is 0.8817009735231847, its standard deviation is 0.01468624862588155, and the parameter value is {'alpha': 10}\n"
     ]
    }
   ],
   "source": [
    "for params, mean_score, scores in model1.grid_scores_:\n",
    "\tprint(\"mean_score is {}, its standard deviation is {}, and the parameter value is {}\".format(mean_score, scores.std(), params))\n"
   ]
  },
  {
   "cell_type": "markdown",
   "metadata": {},
   "source": [
    "Interestingly, the model is highly stable with similar mean R-squared across different values of alpha, and little variablity within the random k samples for each of the alphas. Around 88% of variability in the lower-limb length can be predicted by the model, for data that the model was not trained on.  For completness, we'll search for the most optimal value for   alpha within the vicinity  of 10, using small increments."
   ]
  },
  {
   "cell_type": "code",
   "execution_count": 30,
   "metadata": {
    "collapsed": true
   },
   "outputs": [],
   "source": [
    "fine_grid=[{\"alpha\" : np.arange(7,13, 0.2)}]\n"
   ]
  },
  {
   "cell_type": "code",
   "execution_count": 31,
   "metadata": {
    "collapsed": true
   },
   "outputs": [],
   "source": [
    "model2=GridSearchCV(Ridge(),\n",
    "fine_grid,\n",
    "cv=5,\n",
    "scoring= 'r2')\n",
    "\n"
   ]
  },
  {
   "cell_type": "code",
   "execution_count": 32,
   "metadata": {
    "collapsed": false
   },
   "outputs": [
    {
     "data": {
      "text/plain": [
       "GridSearchCV(cv=5, error_score='raise',\n",
       "       estimator=Ridge(alpha=1.0, copy_X=True, fit_intercept=True, max_iter=None,\n",
       "   normalize=False, random_state=None, solver='auto', tol=0.001),\n",
       "       fit_params={}, iid=True, n_jobs=1,\n",
       "       param_grid=[{'alpha': array([  7. ,   7.2,   7.4,   7.6,   7.8,   8. ,   8.2,   8.4,   8.6,\n",
       "         8.8,   9. ,   9.2,   9.4,   9.6,   9.8,  10. ,  10.2,  10.4,\n",
       "        10.6,  10.8,  11. ,  11.2,  11.4,  11.6,  11.8,  12. ,  12.2,\n",
       "        12.4,  12.6,  12.8])}],\n",
       "       pre_dispatch='2*n_jobs', refit=True, scoring='r2', verbose=0)"
      ]
     },
     "execution_count": 32,
     "metadata": {},
     "output_type": "execute_result"
    }
   ],
   "source": [
    "model2.fit(x1,y1)\n"
   ]
  },
  {
   "cell_type": "code",
   "execution_count": 33,
   "metadata": {
    "collapsed": false
   },
   "outputs": [
    {
     "data": {
      "text/plain": [
       "Ridge(alpha=12.800000000000004, copy_X=True, fit_intercept=True,\n",
       "   max_iter=None, normalize=False, random_state=None, solver='auto',\n",
       "   tol=0.001)"
      ]
     },
     "execution_count": 33,
     "metadata": {},
     "output_type": "execute_result"
    }
   ],
   "source": [
    "model2.best_estimator_\n"
   ]
  },
  {
   "cell_type": "markdown",
   "metadata": {},
   "source": [
    "Alright, it seems that alpha=12.8 is the most optimal. Let's repeat the same steps for the upper limb model."
   ]
  },
  {
   "cell_type": "code",
   "execution_count": 35,
   "metadata": {
    "collapsed": true
   },
   "outputs": [],
   "source": [
    "y2=df[\"upperlimb\"]\n",
    "\n",
    "x2 = df[['shoulder_height', 'chest_height', 'waist_length', 'gender', 'age', 'foot1', 'foot2', 'foreleg1', 'foreleg2', 'thigh2', 'thigh1']]\n"
   ]
  },
  {
   "cell_type": "code",
   "execution_count": 36,
   "metadata": {
    "collapsed": true
   },
   "outputs": [],
   "source": [
    "model3=GridSearchCV(Ridge(),\n",
    "grid,\n",
    "cv=5,\n",
    "scoring= 'r2')\n",
    "\n"
   ]
  },
  {
   "cell_type": "code",
   "execution_count": 37,
   "metadata": {
    "collapsed": false
   },
   "outputs": [
    {
     "data": {
      "text/plain": [
       "GridSearchCV(cv=5, error_score='raise',\n",
       "       estimator=Ridge(alpha=1.0, copy_X=True, fit_intercept=True, max_iter=None,\n",
       "   normalize=False, random_state=None, solver='auto', tol=0.001),\n",
       "       fit_params={}, iid=True, n_jobs=1,\n",
       "       param_grid=[{'alpha': [0.1, 1, 10]}], pre_dispatch='2*n_jobs',\n",
       "       refit=True, scoring='r2', verbose=0)"
      ]
     },
     "execution_count": 37,
     "metadata": {},
     "output_type": "execute_result"
    }
   ],
   "source": [
    "model3.fit(x2,y2)\n"
   ]
  },
  {
   "cell_type": "code",
   "execution_count": 38,
   "metadata": {
    "collapsed": false
   },
   "outputs": [
    {
     "name": "stdout",
     "output_type": "stream",
     "text": [
      "mean_score is 0.7562480874516535, its standard deviation is 0.02166740064148744, and the parameter value is {'alpha': 0.1}\n",
      "mean_score is 0.7562447153804018, its standard deviation is 0.0216824321404775, and the parameter value is {'alpha': 1}\n",
      "mean_score is 0.7562000680958149, its standard deviation is 0.021826773507645152, and the parameter value is {'alpha': 10}\n"
     ]
    }
   ],
   "source": [
    "for params, mean_score, scores in model3.grid_scores_:\n",
    "\tprint(\"mean_score is {}, its standard deviation is {}, and the parameter value is {}\".format(mean_score, scores.std(), params))\n"
   ]
  },
  {
   "cell_type": "markdown",
   "metadata": {},
   "source": [
    "So, the model is also stable in predicting around 75% of variability in upper-limb measures for examples it had not seen. Alpha = 0.1 seems nomenally optimal. "
   ]
  },
  {
   "cell_type": "markdown",
   "metadata": {},
   "source": [
    "## Model Persistance"
   ]
  },
  {
   "cell_type": "markdown",
   "metadata": {},
   "source": [
    "Now, on to the final step. We arrived at the optimal hyperparameter values  through model selection above. Let's now use these values in simple Ridge regression models to obtain the parameter estimates  . We will then \"\"freeze\" or persist these models into \"pkl\" binary files. These files can then be transfered to the server side, and reside in the Flask web application directory. When needed, the pkl-ed files can be \"defrosted\" and then used to predict the lower-limb and upper-limb lengths for patients with amputation."
   ]
  },
  {
   "cell_type": "code",
   "execution_count": 40,
   "metadata": {
    "collapsed": true
   },
   "outputs": [],
   "source": [
    "from sklearn.linear_model import Ridge\n",
    "from sklearn.externals import joblib\n"
   ]
  },
  {
   "cell_type": "code",
   "execution_count": 41,
   "metadata": {
    "collapsed": true
   },
   "outputs": [],
   "source": [
    "model_lower=Ridge(alpha=12.8)\n"
   ]
  },
  {
   "cell_type": "code",
   "execution_count": 42,
   "metadata": {
    "collapsed": true
   },
   "outputs": [],
   "source": [
    "model_upper=Ridge(alpha=0.1)\n"
   ]
  },
  {
   "cell_type": "code",
   "execution_count": 43,
   "metadata": {
    "collapsed": false
   },
   "outputs": [
    {
     "data": {
      "text/plain": [
       "Ridge(alpha=12.8, copy_X=True, fit_intercept=True, max_iter=None,\n",
       "   normalize=False, random_state=None, solver='auto', tol=0.001)"
      ]
     },
     "execution_count": 43,
     "metadata": {},
     "output_type": "execute_result"
    }
   ],
   "source": [
    "model_lower.fit(x1, y1)"
   ]
  },
  {
   "cell_type": "code",
   "execution_count": 44,
   "metadata": {
    "collapsed": false
   },
   "outputs": [
    {
     "data": {
      "text/plain": [
       "Ridge(alpha=0.1, copy_X=True, fit_intercept=True, max_iter=None,\n",
       "   normalize=False, random_state=None, solver='auto', tol=0.001)"
      ]
     },
     "execution_count": 44,
     "metadata": {},
     "output_type": "execute_result"
    }
   ],
   "source": [
    "model_upper.fit(x2, y2)"
   ]
  },
  {
   "cell_type": "code",
   "execution_count": 45,
   "metadata": {
    "collapsed": false
   },
   "outputs": [
    {
     "data": {
      "text/plain": [
       "['model_lower.pkl']"
      ]
     },
     "execution_count": 45,
     "metadata": {},
     "output_type": "execute_result"
    }
   ],
   "source": [
    "joblib.dump(model_lower, \"model_lower.pkl\")\n"
   ]
  },
  {
   "cell_type": "code",
   "execution_count": 46,
   "metadata": {
    "collapsed": false
   },
   "outputs": [
    {
     "data": {
      "text/plain": [
       "['model_upper.pkl']"
      ]
     },
     "execution_count": 46,
     "metadata": {},
     "output_type": "execute_result"
    }
   ],
   "source": [
    "joblib.dump(model_upper, \"model_upper.pkl\")\n"
   ]
  },
  {
   "cell_type": "markdown",
   "metadata": {},
   "source": [
    "Great! You should now find 2 \"pkl\" files in your working directory. Copy them to the Flask app directories, and see you there !"
   ]
  },
  {
   "cell_type": "code",
   "execution_count": null,
   "metadata": {
    "collapsed": true
   },
   "outputs": [],
   "source": []
  }
 ],
 "metadata": {
  "kernelspec": {
   "display_name": "Python 3",
   "language": "python",
   "name": "py35_2"
  },
  "language_info": {
   "codemirror_mode": {
    "name": "ipython",
    "version": 3
   },
   "file_extension": ".py",
   "mimetype": "text/x-python",
   "name": "python",
   "nbconvert_exporter": "python",
   "pygments_lexer": "ipython3",
   "version": "3.5.2"
  }
 },
 "nbformat": 4,
 "nbformat_minor": 0
}
